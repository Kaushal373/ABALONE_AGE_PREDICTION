{
 "cells": [
  {
   "cell_type": "markdown",
   "metadata": {},
   "source": [
    "# <center> AB Fresh Supply Co. Ltd.</center>"
   ]
  },
  {
   "cell_type": "markdown",
   "metadata": {},
   "source": [
    "## Company Introduction : Abalone Producing and Processing Company\n",
    "They want to supply the highest quality of abalones with a good price through direct transactions with fish farms.<br>\n",
    "They have experience in exporting abalones to North America as well as South East Asia.<br>\n",
    "To find the highest quality abalones, they need to analyze their measurements.<br>\n",
    "One of the key measurements in this process is the age of the abalone.<br>\n"
   ]
  },
  {
   "cell_type": "markdown",
   "metadata": {},
   "source": [
    "### Current Scenario : \n",
    "The age of abalone is determined by cutting the shell through the cone, staining it, and counting the number of rings through a microscope.\n",
    "\n",
    "<b>By adding 1.5 to the number of rings, we get the abalone’s age in years.</b>"
   ]
  },
  {
   "cell_type": "markdown",
   "metadata": {},
   "source": [
    "## Problem Statement :\n",
    "\n",
    "The current process suffers from the following problems:<br>\n",
    "\n",
    "Since the <b><i>age</i></b> of abalone is determined by cutting the shell through the cone, staining it, and counting the number of rings through a microscope.\n",
    "This becomes a quite boring and time-consuming task."
   ]
  },
  {
   "cell_type": "markdown",
   "metadata": {},
   "source": [
    "# Data Description"
   ]
  },
  {
   "cell_type": "markdown",
   "metadata": {},
   "source": [
    "<table>\t<th>\tColumn Name\t</th>\t<th>\tDescription\t</th>\t\n",
    "<tr>\t<td>\tID\t</td>\t<td>\tUnique Id of the sample.\t</td>\t</tr>\n",
    "<tr>\t<td>\tSex\t</td>\t<td>\tThe sex of the abalone (M, F, and I (infant)).\t</td>\t</tr>\n",
    "<tr>\t<td>\tLength\t</td>\t<td>\tLongest shell measurement (mm).\t</td>\t</tr>\n",
    "<tr>\t<td>\tDiameter\t</td>\t<td>\tDiameter of abalone perpendicular to length (mm).\t</td>\t</tr>\n",
    "<tr>\t<td>\tHeight\t</td>\t<td>\tHeight of abalone with meat in the shell (mm).\t</td>\t</tr>\n",
    "<tr>\t<td>\tWhole_weight\t</td>\t<td>\tWeight of the whole abalone (grams).\t</td>\t</tr>\n",
    "<tr>\t<td>\tShucked_weight\t</td>\t<td>\tWeight of the meat of abalone (grams).\t</td>\t</tr>\n",
    "<tr>\t<td>\tViscera_weight\t</td>\t<td>\tGut weight (after bleeding) of the abalone (grams).\t</td>\t</tr>\n",
    "<tr>\t<td>\tShell_weight\t</td>\t<td>\tWeight of the abalone after being dried (grams).\t</td>\t</tr>\n",
    "<tr>\t<td>\tRings\t</td>\t<td>\tNumber of Rings in the abalone.\t</td>\t</tr>\n",
    "</table>\t\t\t\t\t\t\t\n"
   ]
  },
  {
   "cell_type": "code",
   "execution_count": 5,
   "metadata": {},
   "outputs": [],
   "source": [
    "#Importing Libraries\n",
    "import pandas as pd\n",
    "import numpy as np\n",
    "import seaborn as sns\n",
    "import matplotlib.pyplot as plt\n",
    "%matplotlib inline\n",
    "import warnings\n",
    "warnings.filterwarnings('ignore')\n",
    "from sklearn.linear_model import  LinearRegression\n",
    "from sklearn.metrics import mean_squared_error"
   ]
  },
  {
   "cell_type": "code",
   "execution_count": 6,
   "metadata": {},
   "outputs": [],
   "source": [
    "train_data = pd.read_csv('abalone_train.csv')"
   ]
  },
  {
   "cell_type": "code",
   "execution_count": 7,
   "metadata": {},
   "outputs": [
    {
     "data": {
      "text/html": [
       "<div>\n",
       "<style scoped>\n",
       "    .dataframe tbody tr th:only-of-type {\n",
       "        vertical-align: middle;\n",
       "    }\n",
       "\n",
       "    .dataframe tbody tr th {\n",
       "        vertical-align: top;\n",
       "    }\n",
       "\n",
       "    .dataframe thead th {\n",
       "        text-align: right;\n",
       "    }\n",
       "</style>\n",
       "<table border=\"1\" class=\"dataframe\">\n",
       "  <thead>\n",
       "    <tr style=\"text-align: right;\">\n",
       "      <th></th>\n",
       "      <th>Id</th>\n",
       "      <th>Sex</th>\n",
       "      <th>Length</th>\n",
       "      <th>Diameter</th>\n",
       "      <th>Height</th>\n",
       "      <th>Whole_weight</th>\n",
       "      <th>Shucked_weight</th>\n",
       "      <th>Viscera_weight</th>\n",
       "      <th>Shell_weight</th>\n",
       "      <th>Rings</th>\n",
       "    </tr>\n",
       "  </thead>\n",
       "  <tbody>\n",
       "    <tr>\n",
       "      <th>0</th>\n",
       "      <td>3141</td>\n",
       "      <td>I</td>\n",
       "      <td>0.180</td>\n",
       "      <td>0.135</td>\n",
       "      <td>0.080</td>\n",
       "      <td>0.0330</td>\n",
       "      <td>0.0145</td>\n",
       "      <td>0.0070</td>\n",
       "      <td>0.0100</td>\n",
       "      <td>5</td>\n",
       "    </tr>\n",
       "    <tr>\n",
       "      <th>1</th>\n",
       "      <td>3521</td>\n",
       "      <td>I</td>\n",
       "      <td>0.215</td>\n",
       "      <td>0.150</td>\n",
       "      <td>0.055</td>\n",
       "      <td>0.0410</td>\n",
       "      <td>0.0150</td>\n",
       "      <td>0.0090</td>\n",
       "      <td>0.0125</td>\n",
       "      <td>3</td>\n",
       "    </tr>\n",
       "    <tr>\n",
       "      <th>2</th>\n",
       "      <td>883</td>\n",
       "      <td>M</td>\n",
       "      <td>0.660</td>\n",
       "      <td>0.530</td>\n",
       "      <td>0.170</td>\n",
       "      <td>1.3905</td>\n",
       "      <td>0.5905</td>\n",
       "      <td>0.2120</td>\n",
       "      <td>0.4530</td>\n",
       "      <td>15</td>\n",
       "    </tr>\n",
       "    <tr>\n",
       "      <th>3</th>\n",
       "      <td>3627</td>\n",
       "      <td>M</td>\n",
       "      <td>0.715</td>\n",
       "      <td>0.525</td>\n",
       "      <td>0.200</td>\n",
       "      <td>1.8900</td>\n",
       "      <td>0.9500</td>\n",
       "      <td>0.4360</td>\n",
       "      <td>0.4305</td>\n",
       "      <td>10</td>\n",
       "    </tr>\n",
       "    <tr>\n",
       "      <th>4</th>\n",
       "      <td>2106</td>\n",
       "      <td>M</td>\n",
       "      <td>0.595</td>\n",
       "      <td>0.455</td>\n",
       "      <td>0.155</td>\n",
       "      <td>1.0410</td>\n",
       "      <td>0.4160</td>\n",
       "      <td>0.2105</td>\n",
       "      <td>0.3650</td>\n",
       "      <td>14</td>\n",
       "    </tr>\n",
       "  </tbody>\n",
       "</table>\n",
       "</div>"
      ],
      "text/plain": [
       "     Id Sex  Length  Diameter  Height  Whole_weight  Shucked_weight  \\\n",
       "0  3141   I   0.180     0.135   0.080        0.0330          0.0145   \n",
       "1  3521   I   0.215     0.150   0.055        0.0410          0.0150   \n",
       "2   883   M   0.660     0.530   0.170        1.3905          0.5905   \n",
       "3  3627   M   0.715     0.525   0.200        1.8900          0.9500   \n",
       "4  2106   M   0.595     0.455   0.155        1.0410          0.4160   \n",
       "\n",
       "   Viscera_weight  Shell_weight  Rings  \n",
       "0          0.0070        0.0100      5  \n",
       "1          0.0090        0.0125      3  \n",
       "2          0.2120        0.4530     15  \n",
       "3          0.4360        0.4305     10  \n",
       "4          0.2105        0.3650     14  "
      ]
     },
     "execution_count": 7,
     "metadata": {},
     "output_type": "execute_result"
    }
   ],
   "source": [
    "train_data.head()"
   ]
  },
  {
   "cell_type": "code",
   "execution_count": 8,
   "metadata": {},
   "outputs": [
    {
     "data": {
      "text/html": [
       "<div>\n",
       "<style scoped>\n",
       "    .dataframe tbody tr th:only-of-type {\n",
       "        vertical-align: middle;\n",
       "    }\n",
       "\n",
       "    .dataframe tbody tr th {\n",
       "        vertical-align: top;\n",
       "    }\n",
       "\n",
       "    .dataframe thead th {\n",
       "        text-align: right;\n",
       "    }\n",
       "</style>\n",
       "<table border=\"1\" class=\"dataframe\">\n",
       "  <thead>\n",
       "    <tr style=\"text-align: right;\">\n",
       "      <th></th>\n",
       "      <th>Id</th>\n",
       "      <th>Sex</th>\n",
       "      <th>Length</th>\n",
       "      <th>Diameter</th>\n",
       "      <th>Height</th>\n",
       "      <th>Whole_weight</th>\n",
       "      <th>Shucked_weight</th>\n",
       "      <th>Viscera_weight</th>\n",
       "      <th>Shell_weight</th>\n",
       "      <th>Rings</th>\n",
       "    </tr>\n",
       "  </thead>\n",
       "  <tbody>\n",
       "    <tr>\n",
       "      <th>3336</th>\n",
       "      <td>1033</td>\n",
       "      <td>M</td>\n",
       "      <td>0.650</td>\n",
       "      <td>0.525</td>\n",
       "      <td>0.185</td>\n",
       "      <td>1.6220</td>\n",
       "      <td>0.6645</td>\n",
       "      <td>0.3225</td>\n",
       "      <td>0.4770</td>\n",
       "      <td>10</td>\n",
       "    </tr>\n",
       "    <tr>\n",
       "      <th>3337</th>\n",
       "      <td>3264</td>\n",
       "      <td>F</td>\n",
       "      <td>0.655</td>\n",
       "      <td>0.500</td>\n",
       "      <td>0.140</td>\n",
       "      <td>1.1705</td>\n",
       "      <td>0.5405</td>\n",
       "      <td>0.3175</td>\n",
       "      <td>0.2850</td>\n",
       "      <td>12</td>\n",
       "    </tr>\n",
       "    <tr>\n",
       "      <th>3338</th>\n",
       "      <td>1653</td>\n",
       "      <td>M</td>\n",
       "      <td>0.595</td>\n",
       "      <td>0.450</td>\n",
       "      <td>0.145</td>\n",
       "      <td>0.9590</td>\n",
       "      <td>0.4630</td>\n",
       "      <td>0.2065</td>\n",
       "      <td>0.2535</td>\n",
       "      <td>10</td>\n",
       "    </tr>\n",
       "    <tr>\n",
       "      <th>3339</th>\n",
       "      <td>2607</td>\n",
       "      <td>F</td>\n",
       "      <td>0.625</td>\n",
       "      <td>0.490</td>\n",
       "      <td>0.165</td>\n",
       "      <td>1.1270</td>\n",
       "      <td>0.4770</td>\n",
       "      <td>0.2365</td>\n",
       "      <td>0.3185</td>\n",
       "      <td>9</td>\n",
       "    </tr>\n",
       "    <tr>\n",
       "      <th>3340</th>\n",
       "      <td>2732</td>\n",
       "      <td>I</td>\n",
       "      <td>0.410</td>\n",
       "      <td>0.325</td>\n",
       "      <td>0.110</td>\n",
       "      <td>0.3260</td>\n",
       "      <td>0.1325</td>\n",
       "      <td>0.0750</td>\n",
       "      <td>0.1010</td>\n",
       "      <td>8</td>\n",
       "    </tr>\n",
       "  </tbody>\n",
       "</table>\n",
       "</div>"
      ],
      "text/plain": [
       "        Id Sex  Length  Diameter  Height  Whole_weight  Shucked_weight  \\\n",
       "3336  1033   M   0.650     0.525   0.185        1.6220          0.6645   \n",
       "3337  3264   F   0.655     0.500   0.140        1.1705          0.5405   \n",
       "3338  1653   M   0.595     0.450   0.145        0.9590          0.4630   \n",
       "3339  2607   F   0.625     0.490   0.165        1.1270          0.4770   \n",
       "3340  2732   I   0.410     0.325   0.110        0.3260          0.1325   \n",
       "\n",
       "      Viscera_weight  Shell_weight  Rings  \n",
       "3336          0.3225        0.4770     10  \n",
       "3337          0.3175        0.2850     12  \n",
       "3338          0.2065        0.2535     10  \n",
       "3339          0.2365        0.3185      9  \n",
       "3340          0.0750        0.1010      8  "
      ]
     },
     "execution_count": 8,
     "metadata": {},
     "output_type": "execute_result"
    }
   ],
   "source": [
    "train_data.tail()"
   ]
  },
  {
   "cell_type": "code",
   "execution_count": 9,
   "metadata": {},
   "outputs": [
    {
     "data": {
      "text/plain": [
       "(3341, 10)"
      ]
     },
     "execution_count": 9,
     "metadata": {},
     "output_type": "execute_result"
    }
   ],
   "source": [
    "train_data.shape"
   ]
  },
  {
   "cell_type": "code",
   "execution_count": 11,
   "metadata": {},
   "outputs": [
    {
     "name": "stdout",
     "output_type": "stream",
     "text": [
      "<class 'pandas.core.frame.DataFrame'>\n",
      "RangeIndex: 3341 entries, 0 to 3340\n",
      "Data columns (total 10 columns):\n",
      " #   Column          Non-Null Count  Dtype  \n",
      "---  ------          --------------  -----  \n",
      " 0   Id              3341 non-null   int64  \n",
      " 1   Sex             3341 non-null   object \n",
      " 2   Length          3341 non-null   float64\n",
      " 3   Diameter        3341 non-null   float64\n",
      " 4   Height          3341 non-null   float64\n",
      " 5   Whole_weight    3341 non-null   float64\n",
      " 6   Shucked_weight  3341 non-null   float64\n",
      " 7   Viscera_weight  3341 non-null   float64\n",
      " 8   Shell_weight    3341 non-null   float64\n",
      " 9   Rings           3341 non-null   int64  \n",
      "dtypes: float64(7), int64(2), object(1)\n",
      "memory usage: 261.1+ KB\n"
     ]
    }
   ],
   "source": [
    "train_data.info()"
   ]
  },
  {
   "cell_type": "code",
   "execution_count": 12,
   "metadata": {},
   "outputs": [
    {
     "data": {
      "text/html": [
       "<div>\n",
       "<style scoped>\n",
       "    .dataframe tbody tr th:only-of-type {\n",
       "        vertical-align: middle;\n",
       "    }\n",
       "\n",
       "    .dataframe tbody tr th {\n",
       "        vertical-align: top;\n",
       "    }\n",
       "\n",
       "    .dataframe thead th {\n",
       "        text-align: right;\n",
       "    }\n",
       "</style>\n",
       "<table border=\"1\" class=\"dataframe\">\n",
       "  <thead>\n",
       "    <tr style=\"text-align: right;\">\n",
       "      <th></th>\n",
       "      <th>Id</th>\n",
       "      <th>Length</th>\n",
       "      <th>Diameter</th>\n",
       "      <th>Height</th>\n",
       "      <th>Whole_weight</th>\n",
       "      <th>Shucked_weight</th>\n",
       "      <th>Viscera_weight</th>\n",
       "      <th>Shell_weight</th>\n",
       "      <th>Rings</th>\n",
       "    </tr>\n",
       "  </thead>\n",
       "  <tbody>\n",
       "    <tr>\n",
       "      <th>count</th>\n",
       "      <td>3341.000000</td>\n",
       "      <td>3341.000000</td>\n",
       "      <td>3341.000000</td>\n",
       "      <td>3341.000000</td>\n",
       "      <td>3341.000000</td>\n",
       "      <td>3341.000000</td>\n",
       "      <td>3341.000000</td>\n",
       "      <td>3341.000000</td>\n",
       "      <td>3341.000000</td>\n",
       "    </tr>\n",
       "    <tr>\n",
       "      <th>mean</th>\n",
       "      <td>2085.442083</td>\n",
       "      <td>0.525887</td>\n",
       "      <td>0.409463</td>\n",
       "      <td>0.140129</td>\n",
       "      <td>0.838176</td>\n",
       "      <td>0.363600</td>\n",
       "      <td>0.182507</td>\n",
       "      <td>0.241385</td>\n",
       "      <td>9.958396</td>\n",
       "    </tr>\n",
       "    <tr>\n",
       "      <th>std</th>\n",
       "      <td>1197.721846</td>\n",
       "      <td>0.119759</td>\n",
       "      <td>0.098895</td>\n",
       "      <td>0.042623</td>\n",
       "      <td>0.493789</td>\n",
       "      <td>0.224156</td>\n",
       "      <td>0.110439</td>\n",
       "      <td>0.139828</td>\n",
       "      <td>3.205591</td>\n",
       "    </tr>\n",
       "    <tr>\n",
       "      <th>min</th>\n",
       "      <td>0.000000</td>\n",
       "      <td>0.075000</td>\n",
       "      <td>0.055000</td>\n",
       "      <td>0.000000</td>\n",
       "      <td>0.002000</td>\n",
       "      <td>0.001000</td>\n",
       "      <td>0.000500</td>\n",
       "      <td>0.001500</td>\n",
       "      <td>1.000000</td>\n",
       "    </tr>\n",
       "    <tr>\n",
       "      <th>25%</th>\n",
       "      <td>1055.000000</td>\n",
       "      <td>0.450000</td>\n",
       "      <td>0.350000</td>\n",
       "      <td>0.115000</td>\n",
       "      <td>0.444500</td>\n",
       "      <td>0.188000</td>\n",
       "      <td>0.093500</td>\n",
       "      <td>0.132000</td>\n",
       "      <td>8.000000</td>\n",
       "    </tr>\n",
       "    <tr>\n",
       "      <th>50%</th>\n",
       "      <td>2086.000000</td>\n",
       "      <td>0.545000</td>\n",
       "      <td>0.425000</td>\n",
       "      <td>0.145000</td>\n",
       "      <td>0.810000</td>\n",
       "      <td>0.341500</td>\n",
       "      <td>0.172500</td>\n",
       "      <td>0.235000</td>\n",
       "      <td>10.000000</td>\n",
       "    </tr>\n",
       "    <tr>\n",
       "      <th>75%</th>\n",
       "      <td>3114.000000</td>\n",
       "      <td>0.620000</td>\n",
       "      <td>0.485000</td>\n",
       "      <td>0.165000</td>\n",
       "      <td>1.168500</td>\n",
       "      <td>0.509500</td>\n",
       "      <td>0.255500</td>\n",
       "      <td>0.330000</td>\n",
       "      <td>11.000000</td>\n",
       "    </tr>\n",
       "    <tr>\n",
       "      <th>max</th>\n",
       "      <td>4175.000000</td>\n",
       "      <td>0.815000</td>\n",
       "      <td>0.650000</td>\n",
       "      <td>1.130000</td>\n",
       "      <td>2.779500</td>\n",
       "      <td>1.488000</td>\n",
       "      <td>0.760000</td>\n",
       "      <td>1.005000</td>\n",
       "      <td>27.000000</td>\n",
       "    </tr>\n",
       "  </tbody>\n",
       "</table>\n",
       "</div>"
      ],
      "text/plain": [
       "                Id       Length     Diameter       Height  Whole_weight  \\\n",
       "count  3341.000000  3341.000000  3341.000000  3341.000000   3341.000000   \n",
       "mean   2085.442083     0.525887     0.409463     0.140129      0.838176   \n",
       "std    1197.721846     0.119759     0.098895     0.042623      0.493789   \n",
       "min       0.000000     0.075000     0.055000     0.000000      0.002000   \n",
       "25%    1055.000000     0.450000     0.350000     0.115000      0.444500   \n",
       "50%    2086.000000     0.545000     0.425000     0.145000      0.810000   \n",
       "75%    3114.000000     0.620000     0.485000     0.165000      1.168500   \n",
       "max    4175.000000     0.815000     0.650000     1.130000      2.779500   \n",
       "\n",
       "       Shucked_weight  Viscera_weight  Shell_weight        Rings  \n",
       "count     3341.000000     3341.000000   3341.000000  3341.000000  \n",
       "mean         0.363600        0.182507      0.241385     9.958396  \n",
       "std          0.224156        0.110439      0.139828     3.205591  \n",
       "min          0.001000        0.000500      0.001500     1.000000  \n",
       "25%          0.188000        0.093500      0.132000     8.000000  \n",
       "50%          0.341500        0.172500      0.235000    10.000000  \n",
       "75%          0.509500        0.255500      0.330000    11.000000  \n",
       "max          1.488000        0.760000      1.005000    27.000000  "
      ]
     },
     "execution_count": 12,
     "metadata": {},
     "output_type": "execute_result"
    }
   ],
   "source": [
    "train_data.describe()"
   ]
  },
  {
   "cell_type": "code",
   "execution_count": 107,
   "metadata": {},
   "outputs": [],
   "source": [
    "test_data = pd.read_csv('abalone_test.csv')"
   ]
  },
  {
   "cell_type": "code",
   "execution_count": 14,
   "metadata": {},
   "outputs": [
    {
     "data": {
      "text/plain": [
       "(836, 9)"
      ]
     },
     "execution_count": 14,
     "metadata": {},
     "output_type": "execute_result"
    }
   ],
   "source": [
    "test_data.shape"
   ]
  },
  {
   "cell_type": "markdown",
   "metadata": {},
   "source": [
    "# Train Data Profiling"
   ]
  },
  {
   "cell_type": "code",
   "execution_count": 22,
   "metadata": {},
   "outputs": [],
   "source": [
    "from pandas_profiling import profile_report"
   ]
  },
  {
   "cell_type": "code",
   "execution_count": 23,
   "metadata": {},
   "outputs": [],
   "source": [
    "#PR = train_data.profile_report(title='Abalone_Age_Profile')"
   ]
  },
  {
   "cell_type": "code",
   "execution_count": 24,
   "metadata": {},
   "outputs": [
    {
     "data": {
      "application/vnd.jupyter.widget-view+json": {
       "model_id": "73bc78a0f7744a97984c07b70d5cd559",
       "version_major": 2,
       "version_minor": 0
      },
      "text/plain": [
       "HBox(children=(HTML(value='Summarize dataset'), FloatProgress(value=0.0, max=23.0), HTML(value='')))"
      ]
     },
     "metadata": {},
     "output_type": "display_data"
    },
    {
     "name": "stdout",
     "output_type": "stream",
     "text": [
      "\n"
     ]
    },
    {
     "data": {
      "application/vnd.jupyter.widget-view+json": {
       "model_id": "95042014d21f42aa8c5707a116e0d0fd",
       "version_major": 2,
       "version_minor": 0
      },
      "text/plain": [
       "HBox(children=(HTML(value='Generate report structure'), FloatProgress(value=0.0, max=1.0), HTML(value='')))"
      ]
     },
     "metadata": {},
     "output_type": "display_data"
    },
    {
     "name": "stdout",
     "output_type": "stream",
     "text": [
      "\n"
     ]
    },
    {
     "data": {
      "application/vnd.jupyter.widget-view+json": {
       "model_id": "d3fac8fa02924d60877f6518865b7a31",
       "version_major": 2,
       "version_minor": 0
      },
      "text/plain": [
       "HBox(children=(HTML(value='Render HTML'), FloatProgress(value=0.0, max=1.0), HTML(value='')))"
      ]
     },
     "metadata": {},
     "output_type": "display_data"
    },
    {
     "name": "stdout",
     "output_type": "stream",
     "text": [
      "\n"
     ]
    },
    {
     "data": {
      "application/vnd.jupyter.widget-view+json": {
       "model_id": "23dfecf7846a4bbfad3fd03fe9f1cc79",
       "version_major": 2,
       "version_minor": 0
      },
      "text/plain": [
       "HBox(children=(HTML(value='Export report to file'), FloatProgress(value=0.0, max=1.0), HTML(value='')))"
      ]
     },
     "metadata": {},
     "output_type": "display_data"
    },
    {
     "name": "stdout",
     "output_type": "stream",
     "text": [
      "\n"
     ]
    }
   ],
   "source": [
    "#PR.to_file('Abalone_Profile_Report')"
   ]
  },
  {
   "cell_type": "markdown",
   "metadata": {},
   "source": [
    "# Dataset Information\n",
    "\n",
    "Number of variables\t- 10<br>\n",
    "Number of observations\t- 3341<br>\n",
    "Missing cells\t- 0<br>\n",
    "\n",
    "#### Variable types\n",
    "\n",
    "Numeric\t- 9<br>\n",
    "Categorical\t- 1\n",
    "\n",
    "1) Id -  Unique Id of each entry<br>\n",
    "2) Sex - Categorical - Male, Female and Infant. Almost Equally Distributed 37% , 32% and 31.5%<br>\n",
    "3) Length - Range -  0.74, Max at 0.81<br>\n",
    "4) Diameter - Range - 0.59, Max at 0.65<br>\n",
    "5) Height - Range - 1.13, Max at 1.13<br>\n",
    "6) Whole Weight -  Range - 2.775, Max at 2.795<br>\n",
    "7) Shucked Weight - Range - 1.487, Max at 1.488<br>\n",
    "8) Viscera Weight -  Range - 0.75, Max at 0.76 <br>\n",
    "9) Shell Weight -  Range - 1.0395, Max at 1.005 <br>\n",
    "10) <b> <i> Rings </i></b> - Target Variable. Almost normally distributed. Range - 26 . Maximum - 27. Mean - 9.95"
   ]
  },
  {
   "cell_type": "markdown",
   "metadata": {},
   "source": [
    "## Data Preprocessing"
   ]
  },
  {
   "cell_type": "code",
   "execution_count": 65,
   "metadata": {},
   "outputs": [
    {
     "data": {
      "text/plain": [
       "<AxesSubplot:>"
      ]
     },
     "execution_count": 65,
     "metadata": {},
     "output_type": "execute_result"
    },
    {
     "data": {
      "image/png": "[encoded data removed]",
      "text/plain": [
       "<Figure size 360x360 with 1 Axes>"
      ]
     },
     "metadata": {
      "needs_background": "light"
     },
     "output_type": "display_data"
    }
   ],
   "source": [
    "plt.figure(figsize=(5,5))\n",
    "plt.xticks(rotation=90)\n",
    "sns.boxplot(data=train_data.drop(['Id','Rings'],axis=1))"
   ]
  },
  {
   "cell_type": "markdown",
   "metadata": {},
   "source": [
    "## Data Preprocessing"
   ]
  },
  {
   "cell_type": "markdown",
   "metadata": {},
   "source": [
    "## Outlier Removal"
   ]
  },
  {
   "cell_type": "code",
   "execution_count": 62,
   "metadata": {},
   "outputs": [],
   "source": [
    "def remove_outlier(df_in, col_name):\n",
    "    Q1 = df_in[col_name].quantile(0.25)# Calculate quantile 1 using quantile(0.25)\n",
    "    Q3 = df_in[col_name].quantile(0.75)# Calculate quantile 3\n",
    "    IQR = Q3-Q1# Calculate IQR as difference of Quantile 3 and quantile \n",
    "    LowerBound = Q1-1.5*IQR# Find the lower bound\n",
    "    UpperBound = Q3+1.5*IQR# Find the upper bound as quantile3 + 1.5*IQR\n",
    "    df_out = df_in.loc[(df_in[col_name] >= LowerBound) & (df_in[col_name] <= UpperBound)]    # Remove the values lying outside min and upper bound range\n",
    "    return df_out  \n"
   ]
  },
  {
   "cell_type": "code",
   "execution_count": 66,
   "metadata": {},
   "outputs": [],
   "source": [
    "train_data1 = train_data.copy()"
   ]
  },
  {
   "cell_type": "code",
   "execution_count": 67,
   "metadata": {},
   "outputs": [
    {
     "data": {
      "text/plain": [
       "Index(['Id', 'Sex', 'Length', 'Diameter', 'Height', 'Whole_weight',\n",
       "       'Shucked_weight', 'Viscera_weight', 'Shell_weight', 'Rings'],\n",
       "      dtype='object')"
      ]
     },
     "execution_count": 67,
     "metadata": {},
     "output_type": "execute_result"
    }
   ],
   "source": [
    "train_data1.columns"
   ]
  },
  {
   "cell_type": "code",
   "execution_count": 68,
   "metadata": {},
   "outputs": [],
   "source": [
    "## Outlier Removal\n",
    "# 1 - length\n",
    "def log(train_data1):\n",
    "    df_out = remove_outlier(train_data1,'Length')\n",
    "    return df_out\n",
    "train_data1 = log(train_data1) \n",
    "\n",
    "#2 - Diameter\n",
    "def log(train_data1):\n",
    "    df_out = remove_outlier(train_data1,'Diameter')\n",
    "    return df_out\n",
    "train_data1 = log(train_data1) \n",
    "\n",
    "#3 - Height\n",
    "def log(train_data1):\n",
    "    df_out = remove_outlier(train_data1,'Height')\n",
    "    return df_out\n",
    "train_data1 = log(train_data1) \n",
    "\n",
    "#4 - Whole Wieght\n",
    "def log(train_data1):\n",
    "    df_out = remove_outlier(train_data1,'Whole_weight')\n",
    "    return df_out\n",
    "train_data1 = log(train_data1) \n",
    "\n",
    "#5 - Shucked_weight\n",
    "def log(train_data1):\n",
    "    df_out = remove_outlier(train_data1,'Shucked_weight')\n",
    "    return df_out\n",
    "train_data1 = log(train_data1)\n",
    "\n",
    "#6 - Viscera_weight\n",
    "def log(train_data1):\n",
    "    df_out = remove_outlier(train_data1,'Viscera_weight')\n",
    "    return df_out\n",
    "train_data1 = log(train_data1)\n",
    "\n",
    "#7 - Shell_weight\n",
    "def log(train_data1):\n",
    "    df_out = remove_outlier(train_data1,'Shell_weight')\n",
    "    return df_out\n",
    "train_data1 = log(train_data1)\n",
    "\n",
    "\n"
   ]
  },
  {
   "cell_type": "code",
   "execution_count": 71,
   "metadata": {},
   "outputs": [
    {
     "data": {
      "text/plain": [
       "(3220, 10)"
      ]
     },
     "execution_count": 71,
     "metadata": {},
     "output_type": "execute_result"
    }
   ],
   "source": [
    "train_data1.shape"
   ]
  },
  {
   "cell_type": "markdown",
   "metadata": {},
   "source": [
    "## Exploratory Data Analysis "
   ]
  },
  {
   "cell_type": "markdown",
   "metadata": {},
   "source": [
    "#### Q1 - What is the distribution of Rings in the datasource?"
   ]
  },
  {
   "cell_type": "code",
   "execution_count": 74,
   "metadata": {},
   "outputs": [
    {
     "data": {
      "text/plain": [
       "<AxesSubplot:xlabel='Rings', ylabel='Density'>"
      ]
     },
     "execution_count": 74,
     "metadata": {},
     "output_type": "execute_result"
    },
    {
     "data": {
      "image/png": "[encoded data removed]",
      "text/plain": [
       "<Figure size 432x288 with 1 Axes>"
      ]
     },
     "metadata": {
      "needs_background": "light"
     },
     "output_type": "display_data"
    }
   ],
   "source": [
    "sns.kdeplot(train_data1['Rings'])"
   ]
  },
  {
   "cell_type": "markdown",
   "metadata": {},
   "source": [
    "<b>Insights :</b> Data is Normally Distributed"
   ]
  },
  {
   "cell_type": "markdown",
   "metadata": {},
   "source": [
    "#### Q2 - What is the distribution of Sex?"
   ]
  },
  {
   "cell_type": "code",
   "execution_count": 75,
   "metadata": {},
   "outputs": [
    {
     "data": {
      "text/plain": [
       "<AxesSubplot:xlabel='Sex', ylabel='count'>"
      ]
     },
     "execution_count": 75,
     "metadata": {},
     "output_type": "execute_result"
    },
    {
     "data": {
      "image/png": "[encoded data removed]",
      "text/plain": [
       "<Figure size 432x288 with 1 Axes>"
      ]
     },
     "metadata": {
      "needs_background": "light"
     },
     "output_type": "display_data"
    }
   ],
   "source": [
    "sns.countplot(train_data1['Sex'])"
   ]
  },
  {
   "cell_type": "markdown",
   "metadata": {},
   "source": [
    "#### Q3 - What is the Distribution of major continous variables with respect to Sex"
   ]
  },
  {
   "cell_type": "code",
   "execution_count": 76,
   "metadata": {},
   "outputs": [
    {
     "data": {
      "text/plain": [
       "<AxesSubplot:title={'center':'Rings'}, xlabel='Sex', ylabel='Shell_weight'>"
      ]
     },
     "execution_count": 76,
     "metadata": {},
     "output_type": "execute_result"
    },
    {
     "data": {
      "image/png": "[encoded data removed]",
      "text/plain": [
       "<Figure size 864x576 with 8 Axes>"
      ]
     },
     "metadata": {
      "needs_background": "light"
     },
     "output_type": "display_data"
    }
   ],
   "source": [
    "f,axes = plt.subplots(2,4, figsize=(12,8))\n",
    "plt.title('Rings')\n",
    "sns.boxplot(data=train_data1, x='Sex', y='Rings',ax=axes[0,0]);\n",
    "sns.boxplot(data=train_data1, x='Sex', y='Length',ax=axes[0,1])\n",
    "sns.boxplot(data=train_data1, x='Sex', y='Diameter',ax=axes[0,2])\n",
    "sns.boxplot(data=train_data1, x='Sex', y='Height',ax=axes[0,3])\n",
    "sns.boxplot(data=train_data1, x='Sex', y='Whole_weight',ax=axes[1,0])\n",
    "sns.boxplot(data=train_data1, x='Sex', y='Shucked_weight',ax=axes[1,1])\n",
    "sns.boxplot(data=train_data1, x='Sex', y='Viscera_weight',ax=axes[1,2])\n",
    "sns.boxplot(data=train_data1, x='Sex', y='Shell_weight',ax=axes[1,3])"
   ]
  },
  {
   "cell_type": "markdown",
   "metadata": {},
   "source": [
    "#### Insights :  \n",
    "1) Ring Size of Infant is smaller compared to Male and Female where Ring Size is close to 10. Female and Male have almost same Ring Size<br>\n",
    "2) Length of Female is slightly higher compared to Male and Infant<br>\n",
    "3) Whole Weight of Fish is higher of Female compared to Male and Infant<br>\n",
    "4) Shell Weight of Fish in female is higher as compared to Male and Infant <br>\n"
   ]
  },
  {
   "cell_type": "markdown",
   "metadata": {},
   "source": [
    "### Q4 -  What is the relationship between the continous variable"
   ]
  },
  {
   "cell_type": "code",
   "execution_count": 79,
   "metadata": {},
   "outputs": [
    {
     "data": {
      "image/png": "[encoded data removed]",
      "text/plain": [
       "<Figure size 648x648 with 2 Axes>"
      ]
     },
     "metadata": {
      "needs_background": "light"
     },
     "output_type": "display_data"
    }
   ],
   "source": [
    "plt.figure(figsize=(9,9))\n",
    "sns.heatmap(train_data1.corr(),cmap=plt.cm.Reds,annot=True)\n",
    "plt.title('Heatmap displaying the correlation matrix of the variables',fontsize=16)\n",
    "plt.show()"
   ]
  },
  {
   "cell_type": "markdown",
   "metadata": {},
   "source": [
    "### Insights : Rings have high coorelation with Shell Weight whereas least Coorelation with Sucket_weight. Data has high multicollinearity"
   ]
  },
  {
   "cell_type": "markdown",
   "metadata": {},
   "source": [
    "# Converting Categorical Variable Sex to Numerical Variable"
   ]
  },
  {
   "cell_type": "code",
   "execution_count": 80,
   "metadata": {},
   "outputs": [],
   "source": [
    "train_data1 = pd.get_dummies(train_data1,drop_first=True)"
   ]
  },
  {
   "cell_type": "code",
   "execution_count": 83,
   "metadata": {},
   "outputs": [],
   "source": [
    "train_data2 = train_data1.drop('Id',axis=1)"
   ]
  },
  {
   "cell_type": "markdown",
   "metadata": {},
   "source": [
    "## Splitting the Variable and Scaling the Variable"
   ]
  },
  {
   "cell_type": "code",
   "execution_count": 88,
   "metadata": {},
   "outputs": [
    {
     "name": "stdout",
     "output_type": "stream",
     "text": [
      "(3220, 9) (3220,)\n"
     ]
    }
   ],
   "source": [
    "X= train_data2.drop('Rings',axis=1)\n",
    "y = train_data2['Rings']\n",
    "print(X.shape,y.shape)"
   ]
  },
  {
   "cell_type": "code",
   "execution_count": 91,
   "metadata": {},
   "outputs": [],
   "source": [
    "from sklearn.preprocessing import StandardScaler"
   ]
  },
  {
   "cell_type": "code",
   "execution_count": 92,
   "metadata": {},
   "outputs": [],
   "source": [
    "SS = StandardScaler()"
   ]
  },
  {
   "cell_type": "code",
   "execution_count": 93,
   "metadata": {},
   "outputs": [],
   "source": [
    "X[X.columns] = SS.fit_transform(X)"
   ]
  },
  {
   "cell_type": "code",
   "execution_count": 94,
   "metadata": {},
   "outputs": [
    {
     "data": {
      "text/html": [
       "<div>\n",
       "<style scoped>\n",
       "    .dataframe tbody tr th:only-of-type {\n",
       "        vertical-align: middle;\n",
       "    }\n",
       "\n",
       "    .dataframe tbody tr th {\n",
       "        vertical-align: top;\n",
       "    }\n",
       "\n",
       "    .dataframe thead th {\n",
       "        text-align: right;\n",
       "    }\n",
       "</style>\n",
       "<table border=\"1\" class=\"dataframe\">\n",
       "  <thead>\n",
       "    <tr style=\"text-align: right;\">\n",
       "      <th></th>\n",
       "      <th>count</th>\n",
       "      <th>mean</th>\n",
       "      <th>std</th>\n",
       "      <th>min</th>\n",
       "      <th>25%</th>\n",
       "      <th>50%</th>\n",
       "      <th>75%</th>\n",
       "      <th>max</th>\n",
       "    </tr>\n",
       "  </thead>\n",
       "  <tbody>\n",
       "    <tr>\n",
       "      <th>Length</th>\n",
       "      <td>3220.0</td>\n",
       "      <td>-6.051060e-16</td>\n",
       "      <td>1.000155</td>\n",
       "      <td>-2.962435</td>\n",
       "      <td>-0.675239</td>\n",
       "      <td>0.176853</td>\n",
       "      <td>0.771075</td>\n",
       "      <td>2.060426</td>\n",
       "    </tr>\n",
       "    <tr>\n",
       "      <th>Diameter</th>\n",
       "      <td>3220.0</td>\n",
       "      <td>1.492250e-16</td>\n",
       "      <td>1.000155</td>\n",
       "      <td>-2.797724</td>\n",
       "      <td>-0.635907</td>\n",
       "      <td>0.174775</td>\n",
       "      <td>0.769275</td>\n",
       "      <td>1.958274</td>\n",
       "    </tr>\n",
       "    <tr>\n",
       "      <th>Height</th>\n",
       "      <td>3220.0</td>\n",
       "      <td>-1.781529e-16</td>\n",
       "      <td>1.000155</td>\n",
       "      <td>-2.767431</td>\n",
       "      <td>-0.678102</td>\n",
       "      <td>0.018341</td>\n",
       "      <td>0.714784</td>\n",
       "      <td>2.804113</td>\n",
       "    </tr>\n",
       "    <tr>\n",
       "      <th>Whole_weight</th>\n",
       "      <td>3220.0</td>\n",
       "      <td>-1.144012e-16</td>\n",
       "      <td>1.000155</td>\n",
       "      <td>-1.731546</td>\n",
       "      <td>-0.819687</td>\n",
       "      <td>-0.029632</td>\n",
       "      <td>0.728999</td>\n",
       "      <td>2.918128</td>\n",
       "    </tr>\n",
       "    <tr>\n",
       "      <th>Shucked_weight</th>\n",
       "      <td>3220.0</td>\n",
       "      <td>-7.999122e-17</td>\n",
       "      <td>1.000155</td>\n",
       "      <td>-1.674654</td>\n",
       "      <td>-0.809269</td>\n",
       "      <td>-0.080525</td>\n",
       "      <td>0.714693</td>\n",
       "      <td>3.091730</td>\n",
       "    </tr>\n",
       "    <tr>\n",
       "      <th>Viscera_weight</th>\n",
       "      <td>3220.0</td>\n",
       "      <td>2.921748e-16</td>\n",
       "      <td>1.000155</td>\n",
       "      <td>-1.740369</td>\n",
       "      <td>-0.819658</td>\n",
       "      <td>-0.070357</td>\n",
       "      <td>0.688740</td>\n",
       "      <td>3.029695</td>\n",
       "    </tr>\n",
       "    <tr>\n",
       "      <th>Shell_weight</th>\n",
       "      <td>3220.0</td>\n",
       "      <td>2.724529e-16</td>\n",
       "      <td>1.000155</td>\n",
       "      <td>-1.802615</td>\n",
       "      <td>-0.801234</td>\n",
       "      <td>-0.000918</td>\n",
       "      <td>0.689995</td>\n",
       "      <td>2.955914</td>\n",
       "    </tr>\n",
       "    <tr>\n",
       "      <th>Sex_I</th>\n",
       "      <td>3220.0</td>\n",
       "      <td>1.836350e-16</td>\n",
       "      <td>1.000155</td>\n",
       "      <td>-0.679443</td>\n",
       "      <td>-0.679443</td>\n",
       "      <td>-0.679443</td>\n",
       "      <td>1.471793</td>\n",
       "      <td>1.471793</td>\n",
       "    </tr>\n",
       "    <tr>\n",
       "      <th>Sex_M</th>\n",
       "      <td>3220.0</td>\n",
       "      <td>-1.406742e-17</td>\n",
       "      <td>1.000155</td>\n",
       "      <td>-0.760547</td>\n",
       "      <td>-0.760547</td>\n",
       "      <td>-0.760547</td>\n",
       "      <td>1.314844</td>\n",
       "      <td>1.314844</td>\n",
       "    </tr>\n",
       "  </tbody>\n",
       "</table>\n",
       "</div>"
      ],
      "text/plain": [
       "                 count          mean       std       min       25%       50%  \\\n",
       "Length          3220.0 -6.051060e-16  1.000155 -2.962435 -0.675239  0.176853   \n",
       "Diameter        3220.0  1.492250e-16  1.000155 -2.797724 -0.635907  0.174775   \n",
       "Height          3220.0 -1.781529e-16  1.000155 -2.767431 -0.678102  0.018341   \n",
       "Whole_weight    3220.0 -1.144012e-16  1.000155 -1.731546 -0.819687 -0.029632   \n",
       "Shucked_weight  3220.0 -7.999122e-17  1.000155 -1.674654 -0.809269 -0.080525   \n",
       "Viscera_weight  3220.0  2.921748e-16  1.000155 -1.740369 -0.819658 -0.070357   \n",
       "Shell_weight    3220.0  2.724529e-16  1.000155 -1.802615 -0.801234 -0.000918   \n",
       "Sex_I           3220.0  1.836350e-16  1.000155 -0.679443 -0.679443 -0.679443   \n",
       "Sex_M           3220.0 -1.406742e-17  1.000155 -0.760547 -0.760547 -0.760547   \n",
       "\n",
       "                     75%       max  \n",
       "Length          0.771075  2.060426  \n",
       "Diameter        0.769275  1.958274  \n",
       "Height          0.714784  2.804113  \n",
       "Whole_weight    0.728999  2.918128  \n",
       "Shucked_weight  0.714693  3.091730  \n",
       "Viscera_weight  0.688740  3.029695  \n",
       "Shell_weight    0.689995  2.955914  \n",
       "Sex_I           1.471793  1.471793  \n",
       "Sex_M           1.314844  1.314844  "
      ]
     },
     "execution_count": 94,
     "metadata": {},
     "output_type": "execute_result"
    }
   ],
   "source": [
    "X.describe().T"
   ]
  },
  {
   "cell_type": "markdown",
   "metadata": {},
   "source": [
    "# Linear Regression Builtup"
   ]
  },
  {
   "cell_type": "code",
   "execution_count": 95,
   "metadata": {},
   "outputs": [],
   "source": [
    "LinReg = LinearRegression()"
   ]
  },
  {
   "cell_type": "code",
   "execution_count": 96,
   "metadata": {},
   "outputs": [
    {
     "data": {
      "text/plain": [
       "LinearRegression()"
      ]
     },
     "execution_count": 96,
     "metadata": {},
     "output_type": "execute_result"
    }
   ],
   "source": [
    "LinReg.fit(X,y)"
   ]
  },
  {
   "cell_type": "code",
   "execution_count": 98,
   "metadata": {},
   "outputs": [],
   "source": [
    "PredValues = LinReg.predict(X)"
   ]
  },
  {
   "cell_type": "code",
   "execution_count": 99,
   "metadata": {},
   "outputs": [],
   "source": [
    "mse = mean_squared_error(y,PredValues)"
   ]
  },
  {
   "cell_type": "code",
   "execution_count": 102,
   "metadata": {},
   "outputs": [],
   "source": [
    "rmse = np.sqrt(mean_squared_error(y,PredValues))"
   ]
  },
  {
   "cell_type": "code",
   "execution_count": 103,
   "metadata": {},
   "outputs": [
    {
     "data": {
      "text/plain": [
       "2.14520713856295"
      ]
     },
     "execution_count": 103,
     "metadata": {},
     "output_type": "execute_result"
    }
   ],
   "source": [
    "rmse"
   ]
  },
  {
   "cell_type": "markdown",
   "metadata": {},
   "source": [
    "# Working on Test Data"
   ]
  },
  {
   "cell_type": "code",
   "execution_count": 112,
   "metadata": {},
   "outputs": [],
   "source": [
    "test_data1 = test_data.copy()"
   ]
  },
  {
   "cell_type": "code",
   "execution_count": 113,
   "metadata": {},
   "outputs": [],
   "source": [
    "test_data1.drop('Id',axis=1,inplace=True)"
   ]
  },
  {
   "cell_type": "code",
   "execution_count": 114,
   "metadata": {},
   "outputs": [],
   "source": [
    "test_data1 = pd.get_dummies(test_data1,drop_first=True) # Conversion of Categorical Variable to Numerical Variable"
   ]
  },
  {
   "cell_type": "code",
   "execution_count": 115,
   "metadata": {},
   "outputs": [],
   "source": [
    "test_data1[test_data1.columns] = SS.transform(test_data1) # Transforming the Data using Standard Scaler"
   ]
  },
  {
   "cell_type": "code",
   "execution_count": 116,
   "metadata": {},
   "outputs": [
    {
     "data": {
      "text/html": [
       "<div>\n",
       "<style scoped>\n",
       "    .dataframe tbody tr th:only-of-type {\n",
       "        vertical-align: middle;\n",
       "    }\n",
       "\n",
       "    .dataframe tbody tr th {\n",
       "        vertical-align: top;\n",
       "    }\n",
       "\n",
       "    .dataframe thead th {\n",
       "        text-align: right;\n",
       "    }\n",
       "</style>\n",
       "<table border=\"1\" class=\"dataframe\">\n",
       "  <thead>\n",
       "    <tr style=\"text-align: right;\">\n",
       "      <th></th>\n",
       "      <th>count</th>\n",
       "      <th>mean</th>\n",
       "      <th>std</th>\n",
       "      <th>min</th>\n",
       "      <th>25%</th>\n",
       "      <th>50%</th>\n",
       "      <th>75%</th>\n",
       "      <th>max</th>\n",
       "    </tr>\n",
       "  </thead>\n",
       "  <tbody>\n",
       "    <tr>\n",
       "      <th>Length</th>\n",
       "      <td>836.0</td>\n",
       "      <td>-0.079515</td>\n",
       "      <td>1.087056</td>\n",
       "      <td>-3.455752</td>\n",
       "      <td>-0.720086</td>\n",
       "      <td>0.087159</td>\n",
       "      <td>0.759864</td>\n",
       "      <td>2.194967</td>\n",
       "    </tr>\n",
       "    <tr>\n",
       "      <th>Diameter</th>\n",
       "      <td>836.0</td>\n",
       "      <td>-0.078579</td>\n",
       "      <td>1.085439</td>\n",
       "      <td>-3.284132</td>\n",
       "      <td>-0.689952</td>\n",
       "      <td>0.120729</td>\n",
       "      <td>0.715229</td>\n",
       "      <td>2.282546</td>\n",
       "    </tr>\n",
       "    <tr>\n",
       "      <th>Height</th>\n",
       "      <td>836.0</td>\n",
       "      <td>-0.063299</td>\n",
       "      <td>1.070002</td>\n",
       "      <td>-3.324585</td>\n",
       "      <td>-0.817390</td>\n",
       "      <td>0.018341</td>\n",
       "      <td>0.714784</td>\n",
       "      <td>2.804113</td>\n",
       "    </tr>\n",
       "    <tr>\n",
       "      <th>Whole_weight</th>\n",
       "      <td>836.0</td>\n",
       "      <td>-0.055122</td>\n",
       "      <td>1.056703</td>\n",
       "      <td>-1.782715</td>\n",
       "      <td>-0.852502</td>\n",
       "      <td>-0.100267</td>\n",
       "      <td>0.626384</td>\n",
       "      <td>4.470986</td>\n",
       "    </tr>\n",
       "    <tr>\n",
       "      <th>Shucked_weight</th>\n",
       "      <td>836.0</td>\n",
       "      <td>-0.054910</td>\n",
       "      <td>1.045156</td>\n",
       "      <td>-1.716507</td>\n",
       "      <td>-0.865279</td>\n",
       "      <td>-0.164232</td>\n",
       "      <td>0.582977</td>\n",
       "      <td>3.904181</td>\n",
       "    </tr>\n",
       "    <tr>\n",
       "      <th>Viscera_weight</th>\n",
       "      <td>836.0</td>\n",
       "      <td>-0.051271</td>\n",
       "      <td>1.037980</td>\n",
       "      <td>-1.715882</td>\n",
       "      <td>-0.849043</td>\n",
       "      <td>-0.165856</td>\n",
       "      <td>0.631195</td>\n",
       "      <td>4.538093</td>\n",
       "    </tr>\n",
       "    <tr>\n",
       "      <th>Shell_weight</th>\n",
       "      <td>836.0</td>\n",
       "      <td>-0.051199</td>\n",
       "      <td>1.074553</td>\n",
       "      <td>-1.814442</td>\n",
       "      <td>-0.899795</td>\n",
       "      <td>-0.119192</td>\n",
       "      <td>0.629873</td>\n",
       "      <td>5.218876</td>\n",
       "    </tr>\n",
       "    <tr>\n",
       "      <th>Sex_I</th>\n",
       "      <td>836.0</td>\n",
       "      <td>0.069372</td>\n",
       "      <td>1.025384</td>\n",
       "      <td>-0.679443</td>\n",
       "      <td>-0.679443</td>\n",
       "      <td>-0.679443</td>\n",
       "      <td>1.471793</td>\n",
       "      <td>1.471793</td>\n",
       "    </tr>\n",
       "    <tr>\n",
       "      <th>Sex_M</th>\n",
       "      <td>836.0</td>\n",
       "      <td>-0.025720</td>\n",
       "      <td>0.993107</td>\n",
       "      <td>-0.760547</td>\n",
       "      <td>-0.760547</td>\n",
       "      <td>-0.760547</td>\n",
       "      <td>1.314844</td>\n",
       "      <td>1.314844</td>\n",
       "    </tr>\n",
       "  </tbody>\n",
       "</table>\n",
       "</div>"
      ],
      "text/plain": [
       "                count      mean       std       min       25%       50%  \\\n",
       "Length          836.0 -0.079515  1.087056 -3.455752 -0.720086  0.087159   \n",
       "Diameter        836.0 -0.078579  1.085439 -3.284132 -0.689952  0.120729   \n",
       "Height          836.0 -0.063299  1.070002 -3.324585 -0.817390  0.018341   \n",
       "Whole_weight    836.0 -0.055122  1.056703 -1.782715 -0.852502 -0.100267   \n",
       "Shucked_weight  836.0 -0.054910  1.045156 -1.716507 -0.865279 -0.164232   \n",
       "Viscera_weight  836.0 -0.051271  1.037980 -1.715882 -0.849043 -0.165856   \n",
       "Shell_weight    836.0 -0.051199  1.074553 -1.814442 -0.899795 -0.119192   \n",
       "Sex_I           836.0  0.069372  1.025384 -0.679443 -0.679443 -0.679443   \n",
       "Sex_M           836.0 -0.025720  0.993107 -0.760547 -0.760547 -0.760547   \n",
       "\n",
       "                     75%       max  \n",
       "Length          0.759864  2.194967  \n",
       "Diameter        0.715229  2.282546  \n",
       "Height          0.714784  2.804113  \n",
       "Whole_weight    0.626384  4.470986  \n",
       "Shucked_weight  0.582977  3.904181  \n",
       "Viscera_weight  0.631195  4.538093  \n",
       "Shell_weight    0.629873  5.218876  \n",
       "Sex_I           1.471793  1.471793  \n",
       "Sex_M           1.314844  1.314844  "
      ]
     },
     "execution_count": 116,
     "metadata": {},
     "output_type": "execute_result"
    }
   ],
   "source": [
    "test_data1.describe().T"
   ]
  },
  {
   "cell_type": "code",
   "execution_count": 120,
   "metadata": {},
   "outputs": [],
   "source": [
    "PredValues1 = pd.DataFrame(LinReg.predict(test_data1))"
   ]
  },
  {
   "cell_type": "code",
   "execution_count": 123,
   "metadata": {},
   "outputs": [],
   "source": [
    "Output = pd.DataFrame(test_data['Id'])"
   ]
  },
  {
   "cell_type": "code",
   "execution_count": 125,
   "metadata": {},
   "outputs": [],
   "source": [
    "Output['Rings'] = PredValues1"
   ]
  },
  {
   "cell_type": "code",
   "execution_count": 126,
   "metadata": {},
   "outputs": [
    {
     "data": {
      "text/plain": [
       "(836, 2)"
      ]
     },
     "execution_count": 126,
     "metadata": {},
     "output_type": "execute_result"
    }
   ],
   "source": [
    "Output.shape"
   ]
  },
  {
   "cell_type": "code",
   "execution_count": 129,
   "metadata": {},
   "outputs": [
    {
     "data": {
      "text/html": [
       "<div>\n",
       "<style scoped>\n",
       "    .dataframe tbody tr th:only-of-type {\n",
       "        vertical-align: middle;\n",
       "    }\n",
       "\n",
       "    .dataframe tbody tr th {\n",
       "        vertical-align: top;\n",
       "    }\n",
       "\n",
       "    .dataframe thead th {\n",
       "        text-align: right;\n",
       "    }\n",
       "</style>\n",
       "<table border=\"1\" class=\"dataframe\">\n",
       "  <thead>\n",
       "    <tr style=\"text-align: right;\">\n",
       "      <th></th>\n",
       "      <th>Id</th>\n",
       "      <th>Rings</th>\n",
       "    </tr>\n",
       "  </thead>\n",
       "  <tbody>\n",
       "    <tr>\n",
       "      <th>831</th>\n",
       "      <td>575</td>\n",
       "      <td>10.476827</td>\n",
       "    </tr>\n",
       "    <tr>\n",
       "      <th>832</th>\n",
       "      <td>3231</td>\n",
       "      <td>9.270938</td>\n",
       "    </tr>\n",
       "    <tr>\n",
       "      <th>833</th>\n",
       "      <td>1084</td>\n",
       "      <td>8.080290</td>\n",
       "    </tr>\n",
       "    <tr>\n",
       "      <th>834</th>\n",
       "      <td>290</td>\n",
       "      <td>12.613271</td>\n",
       "    </tr>\n",
       "    <tr>\n",
       "      <th>835</th>\n",
       "      <td>2713</td>\n",
       "      <td>5.795873</td>\n",
       "    </tr>\n",
       "  </tbody>\n",
       "</table>\n",
       "</div>"
      ],
      "text/plain": [
       "       Id      Rings\n",
       "831   575  10.476827\n",
       "832  3231   9.270938\n",
       "833  1084   8.080290\n",
       "834   290  12.613271\n",
       "835  2713   5.795873"
      ]
     },
     "execution_count": 129,
     "metadata": {},
     "output_type": "execute_result"
    }
   ],
   "source": [
    "Output.tail()"
   ]
  },
  {
   "cell_type": "code",
   "execution_count": 130,
   "metadata": {},
   "outputs": [],
   "source": [
    "Output.to_csv('submission.csv', index=False, header=False)"
   ]
  }
 ],
 "metadata": {
  "kernelspec": {
   "display_name": "Python 3",
   "language": "python",
   "name": "python3"
  },
  "language_info": {
   "codemirror_mode": {
    "name": "ipython",
    "version": 3
   },
   "file_extension": ".py",
   "mimetype": "text/x-python",
   "name": "python",
   "nbconvert_exporter": "python",
   "pygments_lexer": "ipython3",
   "version": "3.8.5"
  }
 },
 "nbformat": 4,
 "nbformat_minor": 4
}
